{
 "cells": [
  {
   "cell_type": "code",
   "execution_count": 2,
   "metadata": {},
   "outputs": [],
   "source": [
    "# File to extract UoA-DR into directories in the ./data folder - categorised into classes for model training. \n",
    "# Modify the data_dir so its is in the tree struction of data_dir -> image_class -> image\n",
    "# UoA-DR: https://figshare.com/s/5011cb600c8bdbc941f1?file=10741045 \n",
    "\n",
    "import os\n",
    "\n",
    "# Expect downloaded images from UoA-DR \n",
    "data_dir = 'data/UoA-DR/' \n",
    "\n",
    "#  X and Y pairs outlined in https://figshare.com/s/5011cb600c8bdbc941f1?file=10910012\n",
    "classes_dict = {  \n",
    "    \"NPDR\": {*range(1, 82), *range(83, 95), 130, *range(132, 144), *range(168, 170), *range(171, 175), 179, 193},\n",
    "    \"PDR\": {82, *range(95, 101), 131, 167, *range(176, 179), *range(182, 193), *range(194, 201)},\n",
    "    \"Healthy\": {*range(101, 130), *range(144, 167), 170, 175, *range(180, 182)}\n",
    "}"
   ]
  },
  {
   "cell_type": "code",
   "execution_count": 3,
   "metadata": {},
   "outputs": [
    {
     "ename": "KeyboardInterrupt",
     "evalue": "",
     "output_type": "error",
     "traceback": [
      "\u001b[0;31m---------------------------------------------------------------------------\u001b[0m",
      "\u001b[0;31mKeyboardInterrupt\u001b[0m                         Traceback (most recent call last)",
      "Cell \u001b[0;32mIn[3], line 1\u001b[0m\n\u001b[0;32m----> 1\u001b[0m image_exts \u001b[39m=\u001b[39m [\u001b[39m'\u001b[39m\u001b[39mjpeg\u001b[39m\u001b[39m'\u001b[39m,\u001b[39m'\u001b[39m\u001b[39mjpg\u001b[39m\u001b[39m'\u001b[39m, \u001b[39m'\u001b[39m\u001b[39mbmp\u001b[39m\u001b[39m'\u001b[39m, \u001b[39m'\u001b[39m\u001b[39mpng\u001b[39m\u001b[39m'\u001b[39m]\n\u001b[1;32m      3\u001b[0m \u001b[39m# Function to check if a string contains only digits and ends with '.jpg'\u001b[39;00m\n\u001b[1;32m      4\u001b[0m \u001b[39mdef\u001b[39;00m \u001b[39mis_retinal_only\u001b[39m(file_name):\n",
      "Cell \u001b[0;32mIn[3], line 1\u001b[0m\n\u001b[0;32m----> 1\u001b[0m image_exts \u001b[39m=\u001b[39m [\u001b[39m'\u001b[39m\u001b[39mjpeg\u001b[39m\u001b[39m'\u001b[39m,\u001b[39m'\u001b[39m\u001b[39mjpg\u001b[39m\u001b[39m'\u001b[39m, \u001b[39m'\u001b[39m\u001b[39mbmp\u001b[39m\u001b[39m'\u001b[39m, \u001b[39m'\u001b[39m\u001b[39mpng\u001b[39m\u001b[39m'\u001b[39m]\n\u001b[1;32m      3\u001b[0m \u001b[39m# Function to check if a string contains only digits and ends with '.jpg'\u001b[39;00m\n\u001b[1;32m      4\u001b[0m \u001b[39mdef\u001b[39;00m \u001b[39mis_retinal_only\u001b[39m(file_name):\n",
      "File \u001b[0;32m~/Desktop/SENG402/trying image classification tuts/Deep-Learning-Image-Classifier/image-classification-venv/lib/python3.11/site-packages/debugpy/_vendored/pydevd/_pydevd_bundle/pydevd_frame.py:988\u001b[0m, in \u001b[0;36mPyDBFrame.trace_dispatch\u001b[0;34m(self, frame, event, arg)\u001b[0m\n\u001b[1;32m    986\u001b[0m \u001b[39m# if thread has a suspend flag, we suspend with a busy wait\u001b[39;00m\n\u001b[1;32m    987\u001b[0m \u001b[39mif\u001b[39;00m info\u001b[39m.\u001b[39mpydev_state \u001b[39m==\u001b[39m STATE_SUSPEND:\n\u001b[0;32m--> 988\u001b[0m     \u001b[39mself\u001b[39;49m\u001b[39m.\u001b[39;49mdo_wait_suspend(thread, frame, event, arg)\n\u001b[1;32m    989\u001b[0m     \u001b[39mreturn\u001b[39;00m \u001b[39mself\u001b[39m\u001b[39m.\u001b[39mtrace_dispatch\n\u001b[1;32m    990\u001b[0m \u001b[39melse\u001b[39;00m:\n",
      "File \u001b[0;32m~/Desktop/SENG402/trying image classification tuts/Deep-Learning-Image-Classifier/image-classification-venv/lib/python3.11/site-packages/debugpy/_vendored/pydevd/_pydevd_bundle/pydevd_frame.py:165\u001b[0m, in \u001b[0;36mPyDBFrame.do_wait_suspend\u001b[0;34m(self, *args, **kwargs)\u001b[0m\n\u001b[1;32m    164\u001b[0m \u001b[39mdef\u001b[39;00m \u001b[39mdo_wait_suspend\u001b[39m(\u001b[39mself\u001b[39m, \u001b[39m*\u001b[39margs, \u001b[39m*\u001b[39m\u001b[39m*\u001b[39mkwargs):\n\u001b[0;32m--> 165\u001b[0m     \u001b[39mself\u001b[39;49m\u001b[39m.\u001b[39;49m_args[\u001b[39m0\u001b[39;49m]\u001b[39m.\u001b[39;49mdo_wait_suspend(\u001b[39m*\u001b[39;49margs, \u001b[39m*\u001b[39;49m\u001b[39m*\u001b[39;49mkwargs)\n",
      "File \u001b[0;32m~/Desktop/SENG402/trying image classification tuts/Deep-Learning-Image-Classifier/image-classification-venv/lib/python3.11/site-packages/debugpy/_vendored/pydevd/pydevd.py:2070\u001b[0m, in \u001b[0;36mPyDB.do_wait_suspend\u001b[0;34m(self, thread, frame, event, arg, exception_type)\u001b[0m\n\u001b[1;32m   2067\u001b[0m             from_this_thread\u001b[39m.\u001b[39mappend(frame_custom_thread_id)\n\u001b[1;32m   2069\u001b[0m     \u001b[39mwith\u001b[39;00m \u001b[39mself\u001b[39m\u001b[39m.\u001b[39m_threads_suspended_single_notification\u001b[39m.\u001b[39mnotify_thread_suspended(thread_id, thread, stop_reason):\n\u001b[0;32m-> 2070\u001b[0m         keep_suspended \u001b[39m=\u001b[39m \u001b[39mself\u001b[39;49m\u001b[39m.\u001b[39;49m_do_wait_suspend(thread, frame, event, arg, suspend_type, from_this_thread, frames_tracker)\n\u001b[1;32m   2072\u001b[0m frames_list \u001b[39m=\u001b[39m \u001b[39mNone\u001b[39;00m\n\u001b[1;32m   2074\u001b[0m \u001b[39mif\u001b[39;00m keep_suspended:\n\u001b[1;32m   2075\u001b[0m     \u001b[39m# This means that we should pause again after a set next statement.\u001b[39;00m\n",
      "File \u001b[0;32m~/Desktop/SENG402/trying image classification tuts/Deep-Learning-Image-Classifier/image-classification-venv/lib/python3.11/site-packages/debugpy/_vendored/pydevd/pydevd.py:2106\u001b[0m, in \u001b[0;36mPyDB._do_wait_suspend\u001b[0;34m(self, thread, frame, event, arg, suspend_type, from_this_thread, frames_tracker)\u001b[0m\n\u001b[1;32m   2103\u001b[0m         \u001b[39mself\u001b[39m\u001b[39m.\u001b[39m_call_input_hook()\n\u001b[1;32m   2105\u001b[0m     \u001b[39mself\u001b[39m\u001b[39m.\u001b[39mprocess_internal_commands()\n\u001b[0;32m-> 2106\u001b[0m     time\u001b[39m.\u001b[39msleep(\u001b[39m0.01\u001b[39m)\n\u001b[1;32m   2108\u001b[0m \u001b[39mself\u001b[39m\u001b[39m.\u001b[39mcancel_async_evaluation(get_current_thread_id(thread), \u001b[39mstr\u001b[39m(\u001b[39mid\u001b[39m(frame)))\n\u001b[1;32m   2110\u001b[0m \u001b[39m# process any stepping instructions\u001b[39;00m\n",
      "\u001b[0;31mKeyboardInterrupt\u001b[0m: "
     ]
    }
   ],
   "source": [
    "image_exts = ['jpeg','jpg', 'bmp', 'png']\n",
    "\n",
    "# Function to check if a string contains only digits and ends with '.jpg'\n",
    "def is_retinal_only(file_name):\n",
    "    return file_name[:-4].isdigit() and file_name.endswith(\".jpg\")\n",
    "\n",
    "# Function to find the class of an image given its full filename\n",
    "def find_class(file_name):\n",
    "    image_number = file_name[:-4]\n",
    "    \n",
    "    for image_class, value_set in classes_dict.items():\n",
    "        if int(image_number) in value_set:\n",
    "            print(f\"The associated key for {image_number} is: {image_class}\")\n",
    "            break\n",
    "    else:\n",
    "        print(f\"No associated key found for {image_number}\")\n",
    "    \n",
    "    return image_class\n",
    "    \n",
    "# Create the new folder if it doesn't exist\n",
    "for image_class in classes_dict.keys():\n",
    "    new_folder = os.path.join(data_dir, image_class)\n",
    "    os.makedirs(new_folder, exist_ok=True)\n",
    "\n",
    "# Modify the data_dir so its is in the tree struction of data_dir -> image_class -> image\n",
    "for image_folder in os.listdir(data_dir): \n",
    "    for image in os.listdir(os.path.join(data_dir, image_folder)):\n",
    "        if is_retinal_only(image):\n",
    "            image_class = find_class(image)\n",
    "\n",
    "            # Move the image to the new folder\n",
    "            original_image_path = os.path.join(data_dir, image_folder, image)\n",
    "            new_image_path = os.path.join(data_dir, image_class, image)\n",
    "            os.rename(original_image_path, new_image_path)\n",
    "            \n",
    "            print(\"Original Path:\", original_image_path)\n",
    "            print(\"New Path:\", new_image_path)"
   ]
  },
  {
   "cell_type": "code",
   "execution_count": 6,
   "metadata": {},
   "outputs": [
    {
     "name": "stdout",
     "output_type": "stream",
     "text": [
      "CSV file created: data/UoA-DR/UoA-DR-labels.csv\n"
     ]
    }
   ],
   "source": [
    "import csv\n",
    "\n",
    "# Create a list to store rows of data\n",
    "data_rows = []\n",
    "\n",
    "# Iterate through the dictionary and create rows\n",
    "for class_name, values in classes_dict.items():\n",
    "    for value in values:\n",
    "        # Initialize the one-hot encoding columns\n",
    "        one_hot_encoding = {\n",
    "            \"NPDR\": 0,\n",
    "            \"PDR\": 0,\n",
    "            \"Healthy\": 0,\n",
    "        }\n",
    "        one_hot_encoding[class_name] = 1\n",
    "        \n",
    "        # Append the row to the data_rows list\n",
    "        data_rows.append([str(value), class_name, one_hot_encoding[\"Healthy\"], one_hot_encoding[\"NPDR\"], one_hot_encoding[\"PDR\"]])\n",
    "\n",
    "# Write the data to a CSV file\n",
    "csv_filename = \"UoA-DR-labels.csv\"\n",
    "csv_file_path = os.path.join(data_dir, csv_filename)\n",
    "\n",
    "with open(csv_file_path, \"w\", newline=\"\") as csvfile:\n",
    "    csv_writer = csv.writer(csvfile)\n",
    "    \n",
    "    # Write the header row\n",
    "    csv_writer.writerow([\"Image Number\", \"Class\", \"Healthy\", \"NPDR\", \"PDR\"])\n",
    "    \n",
    "    # Write the data rows\n",
    "    csv_writer.writerows(data_rows)\n",
    "\n",
    "print(\"CSV file created:\", csv_file_path)\n"
   ]
  }
 ],
 "metadata": {
  "kernelspec": {
   "display_name": "image-classification-venv",
   "language": "python",
   "name": "python3"
  },
  "language_info": {
   "codemirror_mode": {
    "name": "ipython",
    "version": 3
   },
   "file_extension": ".py",
   "mimetype": "text/x-python",
   "name": "python",
   "nbconvert_exporter": "python",
   "pygments_lexer": "ipython3",
   "version": "3.11.4"
  },
  "orig_nbformat": 4
 },
 "nbformat": 4,
 "nbformat_minor": 2
}
