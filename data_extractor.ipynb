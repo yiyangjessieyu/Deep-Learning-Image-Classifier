{
 "cells": [
  {
   "cell_type": "code",
   "execution_count": 7,
   "metadata": {},
   "outputs": [],
   "source": [
    "# File to extract UoA-DR into directories in the ./data folder - categorised into classes for model training. \n",
    "# Modify the data_dir so its is in the tree struction of data_dir -> image_class -> image\n",
    "# UoA-DR: https://figshare.com/s/5011cb600c8bdbc941f1?file=10741045 \n",
    "\n",
    "import os\n",
    "\n",
    "# Expect downloaded images from UoA-DR \n",
    "data_dir = 'data/UoA-DR/' \n",
    "\n",
    "#  X and Y pairs outlined in https://figshare.com/s/5011cb600c8bdbc941f1?file=10910012\n",
    "classes_dict = {  \n",
    "    \"NPDR\": {*range(1, 82), *range(83, 95), 130, *range(132, 144), *range(168, 170), *range(171, 175), 179, 193},\n",
    "    \"PDR\": {82, *range(95, 101), 131, 167, *range(176, 179), *range(182, 193), *range(194, 201)},\n",
    "    \"Healthy\": {*range(101, 130), *range(144, 167), 170, 175, *range(180, 182)}\n",
    "}"
   ]
  },
  {
   "cell_type": "code",
   "execution_count": 3,
   "metadata": {},
   "outputs": [
    {
     "ename": "KeyboardInterrupt",
     "evalue": "",
     "output_type": "error",
     "traceback": [
      "\u001b[0;31m---------------------------------------------------------------------------\u001b[0m",
      "\u001b[0;31mKeyboardInterrupt\u001b[0m                         Traceback (most recent call last)",
      "Cell \u001b[0;32mIn[3], line 1\u001b[0m\n\u001b[0;32m----> 1\u001b[0m image_exts \u001b[39m=\u001b[39m [\u001b[39m'\u001b[39m\u001b[39mjpeg\u001b[39m\u001b[39m'\u001b[39m,\u001b[39m'\u001b[39m\u001b[39mjpg\u001b[39m\u001b[39m'\u001b[39m, \u001b[39m'\u001b[39m\u001b[39mbmp\u001b[39m\u001b[39m'\u001b[39m, \u001b[39m'\u001b[39m\u001b[39mpng\u001b[39m\u001b[39m'\u001b[39m]\n\u001b[1;32m      3\u001b[0m \u001b[39m# Function to check if a string contains only digits and ends with '.jpg'\u001b[39;00m\n\u001b[1;32m      4\u001b[0m \u001b[39mdef\u001b[39;00m \u001b[39mis_retinal_only\u001b[39m(file_name):\n",
      "Cell \u001b[0;32mIn[3], line 1\u001b[0m\n\u001b[0;32m----> 1\u001b[0m image_exts \u001b[39m=\u001b[39m [\u001b[39m'\u001b[39m\u001b[39mjpeg\u001b[39m\u001b[39m'\u001b[39m,\u001b[39m'\u001b[39m\u001b[39mjpg\u001b[39m\u001b[39m'\u001b[39m, \u001b[39m'\u001b[39m\u001b[39mbmp\u001b[39m\u001b[39m'\u001b[39m, \u001b[39m'\u001b[39m\u001b[39mpng\u001b[39m\u001b[39m'\u001b[39m]\n\u001b[1;32m      3\u001b[0m \u001b[39m# Function to check if a string contains only digits and ends with '.jpg'\u001b[39;00m\n\u001b[1;32m      4\u001b[0m \u001b[39mdef\u001b[39;00m \u001b[39mis_retinal_only\u001b[39m(file_name):\n",
      "File \u001b[0;32m~/Desktop/SENG402/trying image classification tuts/Deep-Learning-Image-Classifier/image-classification-venv/lib/python3.11/site-packages/debugpy/_vendored/pydevd/_pydevd_bundle/pydevd_frame.py:988\u001b[0m, in \u001b[0;36mPyDBFrame.trace_dispatch\u001b[0;34m(self, frame, event, arg)\u001b[0m\n\u001b[1;32m    986\u001b[0m \u001b[39m# if thread has a suspend flag, we suspend with a busy wait\u001b[39;00m\n\u001b[1;32m    987\u001b[0m \u001b[39mif\u001b[39;00m info\u001b[39m.\u001b[39mpydev_state \u001b[39m==\u001b[39m STATE_SUSPEND:\n\u001b[0;32m--> 988\u001b[0m     \u001b[39mself\u001b[39;49m\u001b[39m.\u001b[39;49mdo_wait_suspend(thread, frame, event, arg)\n\u001b[1;32m    989\u001b[0m     \u001b[39mreturn\u001b[39;00m \u001b[39mself\u001b[39m\u001b[39m.\u001b[39mtrace_dispatch\n\u001b[1;32m    990\u001b[0m \u001b[39melse\u001b[39;00m:\n",
      "File \u001b[0;32m~/Desktop/SENG402/trying image classification tuts/Deep-Learning-Image-Classifier/image-classification-venv/lib/python3.11/site-packages/debugpy/_vendored/pydevd/_pydevd_bundle/pydevd_frame.py:165\u001b[0m, in \u001b[0;36mPyDBFrame.do_wait_suspend\u001b[0;34m(self, *args, **kwargs)\u001b[0m\n\u001b[1;32m    164\u001b[0m \u001b[39mdef\u001b[39;00m \u001b[39mdo_wait_suspend\u001b[39m(\u001b[39mself\u001b[39m, \u001b[39m*\u001b[39margs, \u001b[39m*\u001b[39m\u001b[39m*\u001b[39mkwargs):\n\u001b[0;32m--> 165\u001b[0m     \u001b[39mself\u001b[39;49m\u001b[39m.\u001b[39;49m_args[\u001b[39m0\u001b[39;49m]\u001b[39m.\u001b[39;49mdo_wait_suspend(\u001b[39m*\u001b[39;49margs, \u001b[39m*\u001b[39;49m\u001b[39m*\u001b[39;49mkwargs)\n",
      "File \u001b[0;32m~/Desktop/SENG402/trying image classification tuts/Deep-Learning-Image-Classifier/image-classification-venv/lib/python3.11/site-packages/debugpy/_vendored/pydevd/pydevd.py:2070\u001b[0m, in \u001b[0;36mPyDB.do_wait_suspend\u001b[0;34m(self, thread, frame, event, arg, exception_type)\u001b[0m\n\u001b[1;32m   2067\u001b[0m             from_this_thread\u001b[39m.\u001b[39mappend(frame_custom_thread_id)\n\u001b[1;32m   2069\u001b[0m     \u001b[39mwith\u001b[39;00m \u001b[39mself\u001b[39m\u001b[39m.\u001b[39m_threads_suspended_single_notification\u001b[39m.\u001b[39mnotify_thread_suspended(thread_id, thread, stop_reason):\n\u001b[0;32m-> 2070\u001b[0m         keep_suspended \u001b[39m=\u001b[39m \u001b[39mself\u001b[39;49m\u001b[39m.\u001b[39;49m_do_wait_suspend(thread, frame, event, arg, suspend_type, from_this_thread, frames_tracker)\n\u001b[1;32m   2072\u001b[0m frames_list \u001b[39m=\u001b[39m \u001b[39mNone\u001b[39;00m\n\u001b[1;32m   2074\u001b[0m \u001b[39mif\u001b[39;00m keep_suspended:\n\u001b[1;32m   2075\u001b[0m     \u001b[39m# This means that we should pause again after a set next statement.\u001b[39;00m\n",
      "File \u001b[0;32m~/Desktop/SENG402/trying image classification tuts/Deep-Learning-Image-Classifier/image-classification-venv/lib/python3.11/site-packages/debugpy/_vendored/pydevd/pydevd.py:2106\u001b[0m, in \u001b[0;36mPyDB._do_wait_suspend\u001b[0;34m(self, thread, frame, event, arg, suspend_type, from_this_thread, frames_tracker)\u001b[0m\n\u001b[1;32m   2103\u001b[0m         \u001b[39mself\u001b[39m\u001b[39m.\u001b[39m_call_input_hook()\n\u001b[1;32m   2105\u001b[0m     \u001b[39mself\u001b[39m\u001b[39m.\u001b[39mprocess_internal_commands()\n\u001b[0;32m-> 2106\u001b[0m     time\u001b[39m.\u001b[39msleep(\u001b[39m0.01\u001b[39m)\n\u001b[1;32m   2108\u001b[0m \u001b[39mself\u001b[39m\u001b[39m.\u001b[39mcancel_async_evaluation(get_current_thread_id(thread), \u001b[39mstr\u001b[39m(\u001b[39mid\u001b[39m(frame)))\n\u001b[1;32m   2110\u001b[0m \u001b[39m# process any stepping instructions\u001b[39;00m\n",
      "\u001b[0;31mKeyboardInterrupt\u001b[0m: "
     ]
    }
   ],
   "source": [
    "image_exts = ['jpeg','jpg', 'bmp', 'png']\n",
    "\n",
    "# Function to check if a string contains only digits and ends with '.jpg'\n",
    "def is_retinal_only(file_name):\n",
    "    return file_name[:-4].isdigit() and file_name.endswith(\".jpg\")\n",
    "\n",
    "# Function to find the class of an image given its full filename\n",
    "def find_class(file_name):\n",
    "    image_number = file_name[:-4]\n",
    "    \n",
    "    for image_class, value_set in classes_dict.items():\n",
    "        if int(image_number) in value_set:\n",
    "            print(f\"The associated key for {image_number} is: {image_class}\")\n",
    "            break\n",
    "    else:\n",
    "        print(f\"No associated key found for {image_number}\")\n",
    "    \n",
    "    return image_class\n",
    "    \n",
    "# Create the new folder if it doesn't exist\n",
    "for image_class in classes_dict.keys():\n",
    "    new_folder = os.path.join(data_dir, image_class)\n",
    "    os.makedirs(new_folder, exist_ok=True)\n",
    "\n",
    "# Modify the data_dir so its is in the tree struction of data_dir -> image_class -> image\n",
    "for image_folder in os.listdir(data_dir): \n",
    "    for image in os.listdir(os.path.join(data_dir, image_folder)):\n",
    "        if is_retinal_only(image):\n",
    "            image_class = find_class(image)\n",
    "\n",
    "            # Move the image to the new folder\n",
    "            original_image_path = os.path.join(data_dir, image_folder, image)\n",
    "            new_image_path = os.path.join(data_dir, image_class, image)\n",
    "            os.rename(original_image_path, new_image_path)\n",
    "            \n",
    "            print(\"Original Path:\", original_image_path)\n",
    "            print(\"New Path:\", new_image_path)"
   ]
  },
  {
   "cell_type": "code",
   "execution_count": 17,
   "metadata": {},
   "outputs": [
    {
     "name": "stdout",
     "output_type": "stream",
     "text": [
      "['147.jpg', '127.jpg', '102.jpg', '110.jpg', '166.jpg', '108.jpg', '163.jpg', '170.jpg', '148.jpg', '145.jpg', '161.jpg', '181.jpg', '175.jpg', '103.jpg', '116.jpg', '154.jpg', '146.jpg', '125.jpg', '160.jpg', '121.jpg', '118.jpg', '152.jpg', '106.jpg', '101.jpg', '151.jpg', '107.jpg', '122.jpg', '105.jpg', '156.jpg', '119.jpg', '144.jpg', '104.jpg', '124.jpg', '149.jpg', '150.jpg', '114.jpg', '112.jpg', '117.jpg', '162.jpg', '158.jpg', '115.jpg', '159.jpg', '123.jpg', '120.jpg', '165.jpg', '164.jpg', '129.jpg', '153.jpg', '128.jpg', '180.jpg', '109.jpg', '155.jpg', '111.jpg', '126.jpg', '113.jpg', '157.jpg']\n",
      "['5.jpg', '61.jpg', '7.jpg', '17.jpg', '134.jpg', '10.jpg', '168.jpg', '70.jpg', '51.jpg', '172.jpg', '40.jpg', '31.jpg', '18.jpg', '132.jpg', '26.jpg', '84.jpg', '15.jpg', '87.jpg', '41.jpg', '55.jpg', '130.jpg', '22.jpg', '66.jpg', '12.jpg', '53.jpg', '54.jpg', '13.jpg', '78.jpg', '139.jpg', '52.jpg', '33.jpg', '83.jpg', '32.jpg', '85.jpg', '35.jpg', '69.jpg', '133.jpg', '72.jpg', '88.jpg', '36.jpg', '59.jpg', '27.jpg', '30.jpg', '68.jpg', '60.jpg', '2.jpg', '143.jpg', '141.jpg', '174.jpg', '171.jpg', '8.jpg', '90.jpg', '29.jpg', '179.jpg', '39.jpg', '67.jpg', '48.jpg', '71.jpg', '135.jpg', '169.jpg', '34.jpg', '136.jpg', '4.jpg', '57.jpg', '3.jpg', '77.jpg', '28.jpg', '49.jpg', '93.jpg', '140.jpg', '92.jpg', '16.jpg', '62.jpg', '25.jpg', '173.jpg', '9.jpg', '94.jpg', '193.jpg', '6.jpg', '14.jpg', '42.jpg', '47.jpg', '46.jpg', '45.jpg', '24.jpg', '11.jpg', '19.jpg', '81.jpg', '21.jpg', '58.jpg', '65.jpg', '1.jpg', '80.jpg', '138.jpg', '137.jpg', '76.jpg', '43.jpg', '23.jpg', '37.jpg', '44.jpg', '50.jpg', '75.jpg', '142.jpg', '38.jpg', '86.jpg', '20.jpg', '63.jpg', '73.jpg', '74.jpg', '64.jpg', '79.jpg', '89.jpg', '56.jpg']\n",
      "['185.jpg', '97.jpg', '99.jpg', '96.jpg', '98.jpg', '200.jpg', '167.jpg', '192.jpg', '194.jpg', '82.jpg', '188.jpg', '187.jpg', '199.jpg', '95.jpg', '176.jpg', '184.jpg', '182.jpg', '191.jpg', '196.jpg', '177.jpg', '189.jpg', '131.jpg', '186.jpg', '183.jpg', '178.jpg', '190.jpg', '100.jpg', '197.jpg', '198.jpg', '195.jpg']\n"
     ]
    }
   ],
   "source": [
    "import random\n",
    "from shutil import copyfile\n",
    "\n",
    "#create two folders (train and validation)\n",
    "train_dir = os.path.join(data_dir, 'train2')\n",
    "os.makedirs(train_dir, exist_ok=True)\n",
    "\n",
    "validation_dir = os.path.join(data_dir, 'validation')\n",
    "os.makedirs(validation_dir, exist_ok=True)\n",
    "\n",
    "#Under train and validation folder create sub folders for each class\n",
    "for class_name in classes_dict.keys():\n",
    "    new_train_class_dir = os.path.join(train_dir, class_name)\n",
    "    new_validation_class_dir = os.path.join(validation_dir, class_name)\n",
    "    os.makedirs(new_train_class_dir, exist_ok=True)\n",
    "    os.makedirs(new_validation_class_dir, exist_ok=True)\n",
    "\n",
    "def split_data(SOURCE, TRAINING, VALIDATION, SPLIT_SIZE):\n",
    "    files = []\n",
    "    for image_name in os.listdir(SOURCE):\n",
    "        file = os.path.join(SOURCE, image_name)\n",
    "        if os.path.getsize(file) > 0:\n",
    "            files.append(image_name)\n",
    "        else:\n",
    "            print(image_name + \" is zero length, so ignoring.\")\n",
    "\n",
    "    training_length = int(len(files) * SPLIT_SIZE)\n",
    "    valid_length = int(len(files) - training_length)\n",
    "    shuffled_set = random.sample(files, len(files))\n",
    "    training_set = shuffled_set[0:training_length]\n",
    "    valid_set = shuffled_set[training_length:]\n",
    "\n",
    "    for filename in training_set:\n",
    "        this_file = os.path.join(SOURCE, filename)\n",
    "        destination = os.path.join(TRAINING, filename)\n",
    "        copyfile(this_file, destination)\n",
    "\n",
    "    for filename in valid_set:\n",
    "        this_file = os.path.join(SOURCE, filename)\n",
    "        destination = os.path.join(VALIDATION, filename)\n",
    "        copyfile(this_file, destination)\n",
    "\n",
    "SOURCE_HEALTHY_DIR = os.path.join(data_dir, \"Healthy\")\n",
    "SOURCE_NPDR_DIR = os.path.join(data_dir, \"NPDR\")\n",
    "SOURCE_PDR_DIR = os.path.join(data_dir, \"PDR\")\n",
    "\n",
    "TRAIN_HEALTHY_DIR = os.path.join(train_dir, \"Healthy\")\n",
    "TRAIN_NPDR_DIR = os.path.join(train_dir, \"NPDR\")\n",
    "TRAIN_PDR_DIR = os.path.join(train_dir, \"PDR\")\n",
    "\n",
    "VALID_HEALTHY_DIR = os.path.join(validation_dir, \"Healthy\")\n",
    "VALID_NPDR_DIR = os.path.join(validation_dir, \"NPDR\")\n",
    "VALID_PDR_DIR = os.path.join(validation_dir, \"PDR\")\n",
    "\n",
    "ALL_DIR = [\n",
    "    [SOURCE_HEALTHY_DIR, TRAIN_HEALTHY_DIR, VALID_HEALTHY_DIR],\n",
    "    [SOURCE_NPDR_DIR, TRAIN_NPDR_DIR, VALID_NPDR_DIR],\n",
    "    [SOURCE_PDR_DIR, TRAIN_NPDR_DIR, VALID_PDR_DIR]\n",
    "]\n",
    "\n",
    "split_size = .85\n",
    "\n",
    "for class_folders in ALL_DIR:\n",
    "    source, train, validation = class_folders\n",
    "    split_data(source, train, validation, split_size)"
   ]
  },
  {
   "cell_type": "code",
   "execution_count": 21,
   "metadata": {},
   "outputs": [
    {
     "name": "stdout",
     "output_type": "stream",
     "text": [
      "{'NPDR': 17, 'PDR': 5, 'Healthy': 9}\n"
     ]
    },
    {
     "data": {
      "image/png": "[encoded data removed]",
      "text/plain": [
       "<Figure size 900x600 with 1 Axes>"
      ]
     },
     "metadata": {},
     "output_type": "display_data"
    }
   ],
   "source": [
    "import matplotlib.pyplot as plt\n",
    "import seaborn as sns\n",
    "from matplotlib.image import imread\n",
    "import pathlib\n",
    "\n",
    "nimgs = {}\n",
    "for class_folder in classes_dict.keys():\n",
    "    # nimages = len(os.listdir(train_dir+i+'/'))\n",
    "    nimages = len(os.listdir(os.path.join(validation_dir, class_folder)))\n",
    "    nimgs[class_folder]=nimages\n",
    "\n",
    "print(nimgs)\n",
    "plt.figure(figsize=(9, 6))\n",
    "plt.bar(range(len(nimgs)), list(nimgs.values()), align='center')\n",
    "plt.xticks(range(len(nimgs)), list(nimgs.keys()))\n",
    "plt.title('Distribution of different classes in Training Dataset')\n",
    "plt.show()"
   ]
  },
  {
   "cell_type": "code",
   "execution_count": 9,
   "metadata": {},
   "outputs": [
    {
     "name": "stdout",
     "output_type": "stream",
     "text": [
      "CSV file created: data/UoA-DR/UoA-DR-labels.csv\n"
     ]
    }
   ],
   "source": [
    "import csv\n",
    "\n",
    "# Create a list to store rows of data\n",
    "data_rows = []\n",
    "\n",
    "# Iterate through the dictionary and create rows\n",
    "for class_name, values in classes_dict.items():\n",
    "    for value in values:\n",
    "        # Initialize the one-hot encoding columns\n",
    "        one_hot_encoding = {\n",
    "            \"NPDR\": 0,\n",
    "            \"PDR\": 0,\n",
    "            \"Healthy\": 0,\n",
    "        }\n",
    "        one_hot_encoding[class_name] = 1\n",
    "        \n",
    "        # Append the row to the data_rows list\n",
    "        data_rows.append([str(value), class_name, one_hot_encoding[\"Healthy\"], one_hot_encoding[\"NPDR\"], one_hot_encoding[\"PDR\"]])\n",
    "\n",
    "# Write the data to a CSV file\n",
    "csv_filename = \"UoA-DR-labels.csv\"\n",
    "csv_file_path = os.path.join(data_dir, csv_filename)\n",
    "\n",
    "with open(csv_file_path, \"w\", newline=\"\") as csvfile:\n",
    "    csv_writer = csv.writer(csvfile)\n",
    "    \n",
    "    # Write the header row\n",
    "    csv_writer.writerow([\"Image Number\", \"Class\", \"Healthy\", \"NPDR\", \"PDR\"])\n",
    "    \n",
    "    # Write the data rows\n",
    "    csv_writer.writerows(data_rows)\n",
    "\n",
    "print(\"CSV file created:\", csv_file_path)\n"
   ]
  },
  {
   "cell_type": "code",
   "execution_count": null,
   "metadata": {},
   "outputs": [],
   "source": []
  }
 ],
 "metadata": {
  "kernelspec": {
   "display_name": "image-classification-venv",
   "language": "python",
   "name": "python3"
  },
  "language_info": {
   "codemirror_mode": {
    "name": "ipython",
    "version": 3
   },
   "file_extension": ".py",
   "mimetype": "text/x-python",
   "name": "python",
   "nbconvert_exporter": "python",
   "pygments_lexer": "ipython3",
   "version": "3.11.4"
  },
  "orig_nbformat": 4
 },
 "nbformat": 4,
 "nbformat_minor": 2
}
